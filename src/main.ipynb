{
 "cells": [
  {
   "cell_type": "code",
   "execution_count": null,
   "metadata": {},
   "outputs": [],
   "source": [
    "import pmcx\n",
    "import numpy as np\n",
    "import matplotlib.pyplot as plt"
   ]
  },
  {
   "cell_type": "code",
   "execution_count": null,
   "metadata": {},
   "outputs": [],
   "source": [
    "res = pmcx.run(nphoton=1000000, \n",
    "               vol=np.ones([60, 60, 60], dtype='uint8'), \n",
    "               tstart=0, \n",
    "               tend=5e-9, \n",
    "               tstep=5e-9, \n",
    "               srcpos=[30,30,0], \n",
    "               srcdir=[0,0,1], \n",
    "               prop=np.array([[0, 0, 1, 1], [0.005, 1, 0.01, 1.37]]),\n",
    "               )\n",
    "res['flux'].shape\n",
    "\n",
    "plt.imshow(np.log10(res['flux'][30,:, :]))\n",
    "plt.show()"
   ]
  },
  {
   "cell_type": "code",
   "execution_count": null,
   "metadata": {},
   "outputs": [],
   "source": [
    "def integral_klein_nishina(theta, wavelen):\n",
    "    # Adapted from https://physics.stackexchange.com/questions/690255/angle-energy-dependent-cdf-for-compton-scattering\n",
    "\n",
    "    cosTheta = np.cos(theta)\n",
    "\n",
    "    h = 6.62607015e-34\n",
    "    c = 299792458\n",
    "    m = 9.10938356e-31\n",
    "\n",
    "    R = (h*wavelen)/(m*c**2)\n",
    "\n",
    "    out = -(cosTheta/R**2) + np.log(1 + R*(1-cosTheta)) * (1/R - 2/R**2 - 2/R**3)\n",
    "    out = out - 1/(2*R*(1+R*(1-cosTheta))**2) + 1/(1+R*(1-cosTheta)) * (-2/R**2 - 1/R**3)\n",
    "\n",
    "    return out\n",
    "\n",
    "def cdf_klein_nishina(theta, wavelen):\n",
    "    assert theta >= 0 and theta <= np.pi\n",
    "    out = (integral_klein_nishina(theta, wavelen) - integral_klein_nishina(0, wavelen))\n",
    "    out = out / (integral_klein_nishina(np.pi, wavelen) - integral_klein_nishina(0, wavelen))\n",
    "    return out"
   ]
  }
 ],
 "metadata": {
  "kernelspec": {
   "display_name": "lircst_mcx",
   "language": "python",
   "name": "python3"
  },
  "language_info": {
   "codemirror_mode": {
    "name": "ipython",
    "version": 3
   },
   "file_extension": ".py",
   "mimetype": "text/x-python",
   "name": "python",
   "nbconvert_exporter": "python",
   "pygments_lexer": "ipython3",
   "version": "3.13.0"
  }
 },
 "nbformat": 4,
 "nbformat_minor": 2
}
