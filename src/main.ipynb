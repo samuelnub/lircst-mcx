{
 "cells": [
  {
   "cell_type": "code",
   "execution_count": 12,
   "metadata": {},
   "outputs": [],
   "source": [
    "import pmcx\n",
    "import numpy as np\n",
    "import mpmath as mp # mpmath documentation https://mpmath.org/doc/current/mpmath.pdf\n",
    "import matplotlib.pyplot as plt"
   ]
  },
  {
   "cell_type": "code",
   "execution_count": 18,
   "metadata": {},
   "outputs": [
    {
     "name": "stdout",
     "output_type": "stream",
     "text": [
      "Max difference between 0.01 and 0.2575 is 0.0000000000000000000011265499859887544716604963110342923227248325800727692193398016603956402578053814628413029232786568925085401600207080219962134616\n",
      "Max difference between 0.01 and 0.505 is 0.0000000000000000000022530999719775089038336755403959494310820339125740423028033309834496375053132613948768607777337523499962228014182017289174272353\n",
      "Max difference between 0.01 and 0.7525 is 0.0000000000000000000033796499579662630833283332274265601762856322733257632576754256776410899456620531223783868110455839902943049877956801414390337126\n",
      "Max difference between 0.01 and 1.0 is 0.0000000000000000000045061999439550177681576407878004753123651783276356598439653224152043920673893109048007372431304327165353590750627911893995744876\n",
      "Max difference between 0.2575 and 0.505 is 0.0000000000000000000011265499859887544321731792293616571083572013325012730834635293230539972475078799320355578544550954574876826413974937069212137737\n",
      "Max difference between 0.2575 and 0.7525 is 0.000000000000000000002253099971977508611667836916392267853560799693252994038335624017245449687856671659537083887766927097785764827774972119442820251\n",
      "Max difference between 0.2575 and 1.0 is 0.000000000000000000003379649957966263296497144476766182989640345747562890624625520754808751809583929441959434319851775824026818915042083167403361026\n",
      "Max difference between 0.505 and 0.7525 is 0.0000000000000000000011265499859887541794946576870306107452035983607517209548720946941914524403487917275015260333118316402980821863774784125216064773\n",
      "Max difference between 0.505 and 1.0 is 0.0000000000000000000022530999719775088643239652474045258812831444150616175411619914317547545620760495099238764653966803665391362736445894604821472523\n",
      "Max difference between 0.7525 and 1.0 is 0.000000000000000000001126549985988754684829307560373915136079546054309896586289896737563302121727257782422350432084848726241054087267111047960540775\n"
     ]
    }
   ],
   "source": [
    "# Set desired precision (e.g., 128 decimal places)\n",
    "mp.mp.dps = 128\n",
    "\n",
    "def integral_klein_nishina(theta, wavelen):\n",
    "    # Adapted from https://physics.stackexchange.com/questions/690255/angle-energy-dependent-cdf-for-compton-scattering\n",
    "\n",
    "    cosTheta = mp.cos(theta)\n",
    "    wavelen = mp.mpf(wavelen)\n",
    "\n",
    "    h = mp.mpf(6.62607015e-34)\n",
    "    c = mp.mpf(299792458)\n",
    "    m = mp.mpf(9.10938356e-31)\n",
    "\n",
    "    R = (h*wavelen)/(m*c**2)\n",
    "\n",
    "    out = -(cosTheta/R**2) + mp.log(1 + R*(1-cosTheta)) * (1/R - 2/R**2 - 2/R**3)\n",
    "    out = out - 1/(2*R*(1+R*(1-cosTheta))**2) + 1/(1+R*(1-cosTheta)) * (-2/R**2 - 1/R**3)\n",
    "\n",
    "    return out\n",
    "\n",
    "def cdf_klein_nishina(theta, wavelen):\n",
    "    assert theta >= 0 and theta <= mp.pi\n",
    "    out = (integral_klein_nishina(theta, wavelen) - integral_klein_nishina(0, wavelen))\n",
    "    out = out / (integral_klein_nishina(mp.pi, wavelen) - integral_klein_nishina(0, wavelen))\n",
    "    return out\n",
    "\n",
    "def generate_theta_cdf_klein_nishina(wavelen):\n",
    "    theta = np.linspace(0, np.pi, 100)\n",
    "    cdf = [cdf_klein_nishina(t, wavelen) for t in theta]\n",
    "    return (theta, cdf)\n",
    "\n",
    "def plot_cdf_klein_nishina(wavelen):\n",
    "    theta, cdf = generate_theta_cdf_klein_nishina(wavelen)\n",
    "    print(cdf)\n",
    "    plt.plot(theta, cdf)\n",
    "    plt.show()\n",
    "\n",
    "def testing_cdf_wavelengths():\n",
    "    wavelengths = np.linspace(0.01, 1, 5)\n",
    "\n",
    "    # Collect all the cdfs for each wavelength and then compare their absolute differences\n",
    "    theta_cdfs = [generate_theta_cdf_klein_nishina(w) for w in wavelengths]\n",
    "    for i in range(len(theta_cdfs)):\n",
    "        for j in range(i+1, len(theta_cdfs)):\n",
    "            theta1, cdf1 = theta_cdfs[i]\n",
    "            theta2, cdf2 = theta_cdfs[j]\n",
    "            diff = np.abs(np.array(cdf1) - np.array(cdf2))\n",
    "            print(f\"Max difference between {wavelengths[i]} and {wavelengths[j]} is {np.max(diff)}\")\n",
    "\n",
    "testing_cdf_wavelengths()\n",
    "\n",
    "# TODO: because CDF is dependent on wavelength, and this changes after the first scattering, we need to update the CDF after each scattering event\n",
    "# OR disable higher order scattering events\n",
    "\n"
   ]
  },
  {
   "cell_type": "code",
   "execution_count": null,
   "metadata": {},
   "outputs": [],
   "source": [
    "def run_simulation():\n",
    "    res = pmcx.run(nphoton=1000000, \n",
    "                vol=np.ones([60, 60, 60], dtype='uint8'), \n",
    "                tstart=0, \n",
    "                tend=5e-9, \n",
    "                tstep=5e-9, \n",
    "                srcpos=[30,30,0], \n",
    "                srcdir=[0,0,1], \n",
    "                prop=np.array([[0, 0, 1, 1], [0.005, 1, 0.01, 1.37]]),\n",
    "                )\n",
    "    res['flux'].shape\n",
    "\n",
    "    plt.imshow(np.log10(res['flux'][30,:, :]))\n",
    "    plt.show()\n",
    "\n",
    "run_simulation()"
   ]
  }
 ],
 "metadata": {
  "kernelspec": {
   "display_name": "lircst_mcx",
   "language": "python",
   "name": "python3"
  },
  "language_info": {
   "codemirror_mode": {
    "name": "ipython",
    "version": 3
   },
   "file_extension": ".py",
   "mimetype": "text/x-python",
   "name": "python",
   "nbconvert_exporter": "python",
   "pygments_lexer": "ipython3",
   "version": "3.13.0"
  }
 },
 "nbformat": 4,
 "nbformat_minor": 2
}
